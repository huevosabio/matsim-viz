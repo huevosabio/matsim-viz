{
 "cells": [
  {
   "cell_type": "code",
   "execution_count": 180,
   "metadata": {
    "collapsed": false,
    "deletable": true,
    "editable": true
   },
   "outputs": [],
   "source": [
    "import pandas as pd\n",
    "import numpy as np\n",
    "import networkx as nx\n",
    "import lxml\n",
    "from lxml import objectify\n",
    "\n",
    "import time\n",
    "\n",
    "import matplotlib\n",
    "import matplotlib.pyplot as plt\n",
    "%matplotlib inline\n",
    "\n",
    "\n"
   ]
  },
  {
   "cell_type": "code",
   "execution_count": 2,
   "metadata": {
    "collapsed": false,
    "deletable": true,
    "editable": true
   },
   "outputs": [],
   "source": [
    "path = 'testdata/2hr_events.xml'\n",
    "xml = objectify.parse(open(path))"
   ]
  },
  {
   "cell_type": "code",
   "execution_count": 15,
   "metadata": {
    "collapsed": true
   },
   "outputs": [],
   "source": [
    "netpath = 'testdata/NYOSMnetwork_25cap.xml'\n",
    "netxml = objectify.parse(open(netpath))"
   ]
  },
  {
   "cell_type": "code",
   "execution_count": 3,
   "metadata": {
    "collapsed": true,
    "deletable": true,
    "editable": true
   },
   "outputs": [],
   "source": [
    "root = xml.getroot()"
   ]
  },
  {
   "cell_type": "code",
   "execution_count": 4,
   "metadata": {
    "collapsed": true,
    "deletable": true,
    "editable": true
   },
   "outputs": [],
   "source": [
    "events = root.getchildren()"
   ]
  },
  {
   "cell_type": "code",
   "execution_count": 20,
   "metadata": {
    "collapsed": true
   },
   "outputs": [],
   "source": [
    "netroot = netxml.getroot()"
   ]
  },
  {
   "cell_type": "code",
   "execution_count": 44,
   "metadata": {
    "collapsed": false
   },
   "outputs": [],
   "source": [
    "G = nx.DiGraph()\n",
    "pos = {}\n",
    "edges = {}\n",
    "# add nodes\n",
    "for n in netroot.getchildren()[0].getchildren():\n",
    "    nid = n.get('id')\n",
    "    x = float(n.get('x'))\n",
    "    y = float(n.get('y'))\n",
    "    pos[nid] = (x, y)\n",
    "    G.add_node(n.get('id'), x = x, y = y)\n",
    "\n",
    "for e in netroot.getchildren()[1].getchildren():\n",
    "    eid = e.get('id')\n",
    "    i = e.get('from')\n",
    "    j = e.get('to')\n",
    "    capacity = e.get('capacity')\n",
    "    G.add_edge(i,j, id=eid, capacity=capacity)\n",
    "    edges[eid] = (i,j)"
   ]
  },
  {
   "cell_type": "code",
   "execution_count": 5,
   "metadata": {
    "collapsed": false,
    "deletable": true,
    "editable": true
   },
   "outputs": [],
   "source": [
    "eventdf = []\n",
    "\n",
    "for e in events:\n",
    "    eventdf.append({k:e.get(k) for k in e.keys()})"
   ]
  },
  {
   "cell_type": "code",
   "execution_count": 6,
   "metadata": {
    "collapsed": true,
    "deletable": true,
    "editable": true
   },
   "outputs": [],
   "source": [
    "eventdf = pd.DataFrame(eventdf)"
   ]
  },
  {
   "cell_type": "code",
   "execution_count": 7,
   "metadata": {
    "collapsed": false,
    "deletable": true,
    "editable": true
   },
   "outputs": [],
   "source": [
    "eventdf['time'] = pd.to_numeric(eventdf['time'])"
   ]
  },
  {
   "cell_type": "code",
   "execution_count": 9,
   "metadata": {
    "collapsed": false,
    "deletable": true,
    "editable": true
   },
   "outputs": [
    {
     "data": {
      "text/plain": [
       "Index([u'actType', u'legMode', u'link', u'networkMode', u'person',\n",
       "       u'relativePosition', u'time', u'type', u'vehicle'],\n",
       "      dtype='object')"
      ]
     },
     "execution_count": 9,
     "metadata": {},
     "output_type": "execute_result"
    }
   ],
   "source": [
    "eventdf.columns"
   ]
  },
  {
   "cell_type": "code",
   "execution_count": 10,
   "metadata": {
    "collapsed": false,
    "deletable": true,
    "editable": true,
    "scrolled": true
   },
   "outputs": [
    {
     "data": {
      "text/plain": [
       "7616"
      ]
     },
     "execution_count": 10,
     "metadata": {},
     "output_type": "execute_result"
    }
   ],
   "source": [
    "len(eventdf['vehicle'].unique())"
   ]
  },
  {
   "cell_type": "markdown",
   "metadata": {
    "deletable": true,
    "editable": true
   },
   "source": [
    "### Type of events\n",
    "\n",
    "#### Passenger related\n",
    "- actend : dummy, ignore\n",
    "- departure : a passenger requests taxi\n",
    "- PersonEntersVehicle : passenger enters taxi\n",
    "- PersonLeavesVehicle : passenger leaves taxi\n",
    "- arrival  : taxi trip ends (same time as PersonLeavesVehicle)\n",
    "\n",
    "#### Rebalancing related\n",
    "Actually, we will tag as rebalancing whenever there is no passenger inside... which, is interesting. \n"
   ]
  },
  {
   "cell_type": "code",
   "execution_count": 79,
   "metadata": {
    "collapsed": true
   },
   "outputs": [],
   "source": [
    "def get_location_time_tuple(link_id, enter_time, exit_time):\n",
    "    #NOTE: ASSUMES FLOAT IN THE TIMES\n",
    "    # get the start and end locations\n",
    "    i,j  = edges[link_id]\n",
    "    x0 = G.node[i]['x']\n",
    "    y0 = G.node[i]['y']\n",
    "    x1 = G.node[j]['x']\n",
    "    y1 = G.node[j]['y']\n",
    "    \n",
    "    #print x0,y0, '\\t', x1, y1\n",
    "    # get proportions at steps \n",
    "    props  = ( np.arange(enter_time, exit_time + 1) - (enter_time) )/ (exit_time - enter_time)\n",
    "    x = (x1 - x0) * props + x0\n",
    "    y = (y1 - y0) * props + y0\n",
    "    return x,y"
   ]
  },
  {
   "cell_type": "code",
   "execution_count": 11,
   "metadata": {
    "collapsed": false,
    "deletable": true,
    "editable": true
   },
   "outputs": [],
   "source": [
    "v_ids = eventdf['vehicle'].unique()[~pd.isnull(eventdf['vehicle'].unique())]"
   ]
  },
  {
   "cell_type": "code",
   "execution_count": 110,
   "metadata": {
    "collapsed": false,
    "deletable": true,
    "editable": true
   },
   "outputs": [],
   "source": [
    "times = np.arange(0,eventdf['time'].max())\n",
    "v_timeseries = {}\n",
    "for i in v_ids:\n",
    "    v_timeseries[i] = {\n",
    "        'x': np.zeros(int(eventdf['time'].max() + 1)),\n",
    "        'y': np.zeros(int(eventdf['time'].max() + 1)),\n",
    "        'status': np.zeros(int(eventdf['time'].max() + 1)) # (0,1,2) - (idle, pax, reb)\n",
    "    }"
   ]
  },
  {
   "cell_type": "code",
   "execution_count": 267,
   "metadata": {
    "collapsed": false
   },
   "outputs": [
    {
     "name": "stdout",
     "output_type": "stream",
     "text": [
      "\n"
     ]
    }
   ],
   "source": [
    "t0 = time.time()\n",
    "for v_id in v_ids:\n",
    "    # get a dataframe of the traffic events\n",
    "    t1 = time.time()\n",
    "    df = eventdf[(eventdf['vehicle'] == v_id) & ~pd.isnull(eventdf['link'])]\n",
    "    ddf1 = time.time() - t1\n",
    "    \n",
    "    # split it into groups\n",
    "    grps = np.array_split(df, len(df)/2)\n",
    "    \n",
    "    # this is to track idle times\n",
    "    last_endtime = 0.\n",
    "    tloop1 = []\n",
    "    for i,g in enumerate(grps):\n",
    "        t1  = time.time()\n",
    "        #link = g.iloc[0]['link']\n",
    "        #assert link == g.iloc[1]['link']\n",
    "        \n",
    "        start_time = g.iloc[0]['time']\n",
    "        end_time = g.iloc[1]['time']\n",
    "        \n",
    "        \n",
    "        x,y = get_location_time_tuple(g.iloc[0]['link'], start_time, end_time)\n",
    "        \n",
    "        \n",
    "        \n",
    "        # if it's the first group, all previous locations should be here\n",
    "        if i == 0:\n",
    "            v_timeseries[v_id]['x'][:int(start_time)+1] = x[0]\n",
    "            v_timeseries[v_id]['y'][:int(start_time)+1] = y[0]\n",
    "        #if it's the final group, then it remains where it should\n",
    "        elif i == len(grps) - 1:\n",
    "            v_timeseries[v_id]['x'][int(end_time):] = x[-1]\n",
    "            v_timeseries[v_id]['y'][int(end_time):] = y[-1]\n",
    "        # fill the idle times\n",
    "        elif start_time != last_endtime:\n",
    "            v_timeseries[v_id]['x'][int(last_endtime):int(start_time)] = x[0]\n",
    "            v_timeseries[v_id]['y'][int(last_endtime):int(start_time)] = y[0]\n",
    "        \n",
    "        v_timeseries[v_id]['x'][int(start_time):int(end_time) + 1] = x\n",
    "        v_timeseries[v_id]['y'][int(start_time):int(end_time) + 1] = y\n",
    "        # default to rebalance (easier to check if a vehicle has a passenger)\n",
    "        v_timeseries[v_id]['status'][int(start_time):int(end_time) + 1] = 2\n",
    "        last_endtime = end_time\n",
    "        tloop1.append(time.time() - t1)\n",
    "    \n",
    "    # get a dataframe of the pickup events\n",
    "    t1 = time.time()\n",
    "    df = eventdf[(eventdf['vehicle'] == v_id) & ~pd.isnull(eventdf['person']) & (eventdf['person'] != v_id)]\n",
    "    ddf2 = time.time() - t1\n",
    "    \n",
    "    # split it into groups\n",
    "    grps = np.array_split(df, len(df)/2)\n",
    "    \n",
    "    tloop2 = []\n",
    "    for i,g in enumerate(grps):\n",
    "        t1 = time.time()\n",
    "        person = g.iloc[0]['person']\n",
    "        assert person == g.iloc[1]['person']\n",
    "        \n",
    "        start_time = g.iloc[0]['time']\n",
    "        end_time = g.iloc[1]['time']\n",
    "        \n",
    "        v_timeseries[v_id]['status'][int(start_time):int(end_time) + 1] = 1\n",
    "        tloop2.append(time.time() - t1)\n",
    "        \n",
    "    break\n",
    "dt = time.time() - t0"
   ]
  },
  {
   "cell_type": "code",
   "execution_count": 268,
   "metadata": {
    "collapsed": false
   },
   "outputs": [
    {
     "name": "stdout",
     "output_type": "stream",
     "text": [
      "0.129689455032 0.00469708442688 0.654629945755 0.737673997879\n"
     ]
    }
   ],
   "source": [
    "print np.array(tloop1).sum(), np.array(tloop2).sum(), ddf1, ddf2 "
   ]
  },
  {
   "cell_type": "code",
   "execution_count": 272,
   "metadata": {
    "collapsed": false
   },
   "outputs": [
    {
     "data": {
      "text/plain": [
       "16.0"
      ]
     },
     "execution_count": 272,
     "metadata": {},
     "output_type": "execute_result"
    }
   ],
   "source": [
    "0.12 * 8000 / 60"
   ]
  },
  {
   "cell_type": "code",
   "execution_count": 260,
   "metadata": {
    "collapsed": false
   },
   "outputs": [
    {
     "data": {
      "text/plain": [
       "1.5789060592651367"
      ]
     },
     "execution_count": 260,
     "metadata": {},
     "output_type": "execute_result"
    }
   ],
   "source": [
    "dt"
   ]
  },
  {
   "cell_type": "code",
   "execution_count": 172,
   "metadata": {
    "collapsed": false
   },
   "outputs": [],
   "source": [
    "mask0 = v_timeseries[v_id]['status'] == 0\n",
    "mask1 = v_timeseries[v_id]['status'] == 1\n",
    "mask2 = v_timeseries[v_id]['status'] == 2"
   ]
  },
  {
   "cell_type": "code",
   "execution_count": 179,
   "metadata": {
    "collapsed": false
   },
   "outputs": [
    {
     "name": "stdout",
     "output_type": "stream",
     "text": [
      "Pax: 0.450050921211 \t Reb: 0.195630034256 \t Idl: 0.354319044533\n"
     ]
    }
   ],
   "source": [
    "treb = sum(mask2) / float(len(v_timeseries[v_id]['status']))\n",
    "tpax = sum(mask1) / float(len(v_timeseries[v_id]['status']))\n",
    "tidl = sum(mask0) / float(len(v_timeseries[v_id]['status']))\n",
    "\n",
    "print 'Pax: {} \\t Reb: {} \\t Idl: {}'.format(tpax, treb, tidl)"
   ]
  },
  {
   "cell_type": "code",
   "execution_count": 162,
   "metadata": {
    "collapsed": false,
    "deletable": true,
    "editable": true
   },
   "outputs": [
    {
     "data": {
      "text/plain": [
       "<matplotlib.collections.PathCollection at 0x1358c0490>"
      ]
     },
     "execution_count": 162,
     "metadata": {},
     "output_type": "execute_result"
    },
    {
     "data": {
      "image/png": "[encoded data removed]",
      "text/plain": [
       "<matplotlib.figure.Figure at 0x136e05150>"
      ]
     },
     "metadata": {},
     "output_type": "display_data"
    }
   ],
   "source": [
    "plt.scatter(v_timeseries[v_id]['x'][mask1],v_timeseries[v_id]['y'][mask1], color='g')\n",
    "plt.scatter(v_timeseries[v_id]['x'][mask2],v_timeseries[v_id]['y'][mask2], color='r')"
   ]
  },
  {
   "cell_type": "code",
   "execution_count": null,
   "metadata": {
    "collapsed": true
   },
   "outputs": [],
   "source": []
  },
  {
   "cell_type": "code",
   "execution_count": null,
   "metadata": {
    "collapsed": true,
    "deletable": true,
    "editable": true
   },
   "outputs": [],
   "source": []
  }
 ],
 "metadata": {
  "kernelspec": {
   "display_name": "Python 2",
   "language": "python",
   "name": "python2"
  },
  "language_info": {
   "codemirror_mode": {
    "name": "ipython",
    "version": 2
   },
   "file_extension": ".py",
   "mimetype": "text/x-python",
   "name": "python",
   "nbconvert_exporter": "python",
   "pygments_lexer": "ipython2",
   "version": "2.7.10"
  }
 },
 "nbformat": 4,
 "nbformat_minor": 2
}
